{
  "nbformat": 4,
  "nbformat_minor": 0,
  "metadata": {
    "colab": {
      "provenance": []
    },
    "kernelspec": {
      "name": "python3",
      "display_name": "Python 3"
    },
    "language_info": {
      "name": "python"
    }
  },
  "cells": [
    {
      "cell_type": "markdown",
      "source": [
        "##Dataset download"
      ],
      "metadata": {
        "id": "W4I9PmD0iQMG"
      }
    },
    {
      "cell_type": "code",
      "execution_count": 1,
      "metadata": {
        "colab": {
          "base_uri": "https://localhost:8080/"
        },
        "id": "P56m5rU0NLyf",
        "outputId": "d37cd1df-2317-48c3-8499-49b718d1cbad"
      },
      "outputs": [
        {
          "output_type": "stream",
          "name": "stdout",
          "text": [
            "Retrieving folder contents\n",
            "Processing file 1hel_NdeNP00joy8K44jQVIbIkegyByRB Adani Enterprises.csv\n",
            "Processing file 1un3LrZFeeLQ1U4I_1r5dthbr7o2NiMYC Adani Ports & SEZ.csv\n",
            "Processing file 1EAMJ23g_wYqCP2-PSUaJvE7BwIJQf0z8 Adani Power.csv\n",
            "Processing file 17own6QWyvC7TTPpqRqQkPXyfUg9eIWtk Axis Bank.csv\n",
            "Processing file 1mSIEdNqz18m6HBRr1SMzZKxrjhX7E51b DLF.csv\n",
            "Processing file 1KPH5wQkM-lt_v63Iqt0H1Cl7E8tXcDRj Hindalco Industries.csv\n",
            "Processing file 1PLRqN2fSHVuJxweuHK03PS1zhZJ3pR0O ICICI Bank.csv\n",
            "Processing file 11ZePFEIWIG9row9xUBbMTk_X29MhqQ65 Larsen & Toubro.csv\n",
            "Processing file 1MpYKU_laAcoVOUXaeppeZ8ZB4NUWDLg_ Power Finance Corporation.csv\n",
            "Processing file 1akOYhgldgiw_lNoRKRfnv3n0oQavlj0e Punjab National Bank.csv\n",
            "Processing file 1i3nT97qqD_COA2AM2NcAleTxdYyH94wf Rural Electrification Corporation.csv\n",
            "Processing file 1YDMYM74YJzOR91sD2Ww84AWM0JM4Xz9X State Bank of India.csv\n",
            "Processing file 1_OSTnc_wWeQc9_Iq86UF_EBu8GdThmB0 Tata Motors.csv\n",
            "Processing file 1CRo0BruZ6k1ukVjT2A7R7ysZeoIUPU_6 Tata Steel.csv\n",
            "Processing file 17RL63vxhcS8XGhPkKeF-V9i943PdUsQs Vedanta.csv\n",
            "Retrieving folder contents completed\n",
            "Building directory structure\n",
            "Building directory structure completed\n",
            "Downloading...\n",
            "From: https://drive.google.com/uc?id=1hel_NdeNP00joy8K44jQVIbIkegyByRB\n",
            "To: /content/L2/Adani Enterprises.csv\n",
            "100% 73.4k/73.4k [00:00<00:00, 68.0MB/s]\n",
            "Downloading...\n",
            "From: https://drive.google.com/uc?id=1un3LrZFeeLQ1U4I_1r5dthbr7o2NiMYC\n",
            "To: /content/L2/Adani Ports & SEZ.csv\n",
            "100% 72.2k/72.2k [00:00<00:00, 23.4MB/s]\n",
            "Downloading...\n",
            "From: https://drive.google.com/uc?id=1EAMJ23g_wYqCP2-PSUaJvE7BwIJQf0z8\n",
            "To: /content/L2/Adani Power.csv\n",
            "100% 70.4k/70.4k [00:00<00:00, 9.18MB/s]\n",
            "Downloading...\n",
            "From: https://drive.google.com/uc?id=17own6QWyvC7TTPpqRqQkPXyfUg9eIWtk\n",
            "To: /content/L2/Axis Bank.csv\n",
            "100% 72.9k/72.9k [00:00<00:00, 67.5MB/s]\n",
            "Downloading...\n",
            "From: https://drive.google.com/uc?id=1mSIEdNqz18m6HBRr1SMzZKxrjhX7E51b\n",
            "To: /content/L2/DLF.csv\n",
            "100% 73.2k/73.2k [00:00<00:00, 63.5MB/s]\n",
            "Downloading...\n",
            "From: https://drive.google.com/uc?id=1KPH5wQkM-lt_v63Iqt0H1Cl7E8tXcDRj\n",
            "To: /content/L2/Hindalco Industries.csv\n",
            "100% 73.3k/73.3k [00:00<00:00, 77.0MB/s]\n",
            "Downloading...\n",
            "From: https://drive.google.com/uc?id=1PLRqN2fSHVuJxweuHK03PS1zhZJ3pR0O\n",
            "To: /content/L2/ICICI Bank.csv\n",
            "100% 74.2k/74.2k [00:00<00:00, 89.7MB/s]\n",
            "Downloading...\n",
            "From: https://drive.google.com/uc?id=11ZePFEIWIG9row9xUBbMTk_X29MhqQ65\n",
            "To: /content/L2/Larsen & Toubro.csv\n",
            "100% 74.2k/74.2k [00:00<00:00, 89.6MB/s]\n",
            "Downloading...\n",
            "From: https://drive.google.com/uc?id=1MpYKU_laAcoVOUXaeppeZ8ZB4NUWDLg_\n",
            "To: /content/L2/Power Finance Corporation.csv\n",
            "100% 71.6k/71.6k [00:00<00:00, 49.4MB/s]\n",
            "Downloading...\n",
            "From: https://drive.google.com/uc?id=1akOYhgldgiw_lNoRKRfnv3n0oQavlj0e\n",
            "To: /content/L2/Punjab National Bank.csv\n",
            "100% 71.4k/71.4k [00:00<00:00, 59.5MB/s]\n",
            "Downloading...\n",
            "From: https://drive.google.com/uc?id=1i3nT97qqD_COA2AM2NcAleTxdYyH94wf\n",
            "To: /content/L2/Rural Electrification Corporation.csv\n",
            "100% 79.7k/79.7k [00:00<00:00, 68.0MB/s]\n",
            "Downloading...\n",
            "From: https://drive.google.com/uc?id=1YDMYM74YJzOR91sD2Ww84AWM0JM4Xz9X\n",
            "To: /content/L2/State Bank of India.csv\n",
            "100% 74.3k/74.3k [00:00<00:00, 51.0MB/s]\n",
            "Downloading...\n",
            "From: https://drive.google.com/uc?id=1_OSTnc_wWeQc9_Iq86UF_EBu8GdThmB0\n",
            "To: /content/L2/Tata Motors.csv\n",
            "100% 74.0k/74.0k [00:00<00:00, 71.7MB/s]\n",
            "Downloading...\n",
            "From: https://drive.google.com/uc?id=1CRo0BruZ6k1ukVjT2A7R7ysZeoIUPU_6\n",
            "To: /content/L2/Tata Steel.csv\n",
            "100% 73.8k/73.8k [00:00<00:00, 68.4MB/s]\n",
            "Downloading...\n",
            "From: https://drive.google.com/uc?id=17RL63vxhcS8XGhPkKeF-V9i943PdUsQs\n",
            "To: /content/L2/Vedanta.csv\n",
            "100% 74.4k/74.4k [00:00<00:00, 98.4MB/s]\n",
            "Download completed\n"
          ]
        }
      ],
      "source": [
        "!gdown --folder 1F1xGF0sPXaGn4kFuoG_v8ZeiLd7NIcvA"
      ]
    },
    {
      "cell_type": "markdown",
      "source": [],
      "metadata": {
        "id": "MY4pJWAKiPci"
      }
    },
    {
      "cell_type": "markdown",
      "source": [
        "#Making of the Code(with 80-20 split)"
      ],
      "metadata": {
        "id": "0-CE4ClRkTr-"
      }
    },
    {
      "cell_type": "code",
      "source": [
        "# Import required libraries\n",
        "import os\n",
        "import pandas as pd\n",
        "import numpy as np\n",
        "from sklearn.preprocessing import MinMaxScaler\n",
        "from tensorflow.keras.models import Sequential\n",
        "from tensorflow.keras.layers import LSTM, Dense, Dropout\n",
        "import matplotlib.pyplot as plt\n",
        "\n",
        "# Load and prepare data with additional preprocessing for Volume\n",
        "def load_and_prepare_data(folder_path):\n",
        "    dataframes = []\n",
        "    for file_name in os.listdir(folder_path):\n",
        "        if file_name.endswith('.csv'):\n",
        "            df = pd.read_csv(os.path.join(folder_path, file_name))\n",
        "            df['Instrument'] = file_name.split('.')[0]  # Add instrument name\n",
        "            df['Date'] = pd.to_datetime(df['Date'])\n",
        "\n",
        "            # Remove commas and convert Volume to numeric\n",
        "            df['Volume'] = df['Volume'].replace({',': ''}, regex=True).astype(float)\n",
        "\n",
        "            dataframes.append(df)\n",
        "    combined_data = pd.concat(dataframes, ignore_index=True)\n",
        "    return combined_data\n",
        "\n",
        "# Load data\n",
        "folder_path = '/content/L2'  # Path to your folder\n",
        "data = load_and_prepare_data(folder_path)\n",
        "\n",
        "# Sort and preprocess\n",
        "data = data.sort_values(by=['Date', 'Instrument']).reset_index(drop=True)\n",
        "features = ['Open', 'High', 'Low', 'Close', '% Change', 'Volume']\n",
        "\n",
        "# Handle missing values\n",
        "data = data.dropna(subset=features)\n",
        "\n",
        "# Scale features\n",
        "scaler = MinMaxScaler()\n",
        "data[features] = scaler.fit_transform(data[features])\n",
        "\n",
        "# Generate sequences for LSTM\n",
        "def create_sequences(data, instruments, sequence_length=60):\n",
        "    X, y = [], []\n",
        "    for instrument in instruments:\n",
        "        instrument_data = data[data['Instrument'] == instrument]\n",
        "        values = instrument_data[features].values\n",
        "        for i in range(sequence_length, len(values)):\n",
        "            X.append(values[i-sequence_length:i, :-1])  # Features\n",
        "            y.append(values[i, -2])  # Target: '% Change'\n",
        "    return np.array(X), np.array(y)\n",
        "\n",
        "sequence_length = 60\n",
        "instruments = data['Instrument'].unique()\n",
        "X, y = create_sequences(data, instruments)\n",
        "\n",
        "# Split into training and testing sets\n",
        "train_size = int(0.8 * len(X))\n",
        "X_train, X_test = X[:train_size], X[train_size:]\n",
        "y_train, y_test = y[:train_size], y[train_size:]\n",
        "\n",
        "# Build the LSTM model\n",
        "model = Sequential([\n",
        "    LSTM(50, return_sequences=True, input_shape=(X_train.shape[1], X_train.shape[2])),\n",
        "    Dropout(0.2),\n",
        "    LSTM(50, return_sequences=False),\n",
        "    Dropout(0.2),\n",
        "    Dense(25),\n",
        "    Dense(1)  # Predict % Change\n",
        "])\n",
        "\n",
        "model.compile(optimizer='adam', loss='mean_squared_error')\n",
        "\n",
        "# Train the model\n",
        "model.fit(X_train, y_train, batch_size=32, epochs=10, validation_data=(X_test, y_test))\n",
        "\n",
        "# Predict on test data\n",
        "predicted_changes = model.predict(X_test)\n",
        "\n",
        "# Backtest the strategy\n",
        "test_data = data.iloc[-len(y_test):].copy()\n",
        "test_data['Predicted % Change'] = scaler.inverse_transform(\n",
        "    np.hstack((np.zeros((len(predicted_changes), len(features) - 1)), predicted_changes))\n",
        ")[:, -1]\n",
        "\n",
        "# Define buy/sell signals based on predictions\n",
        "test_data['Signal'] = np.where(test_data['Predicted % Change'] > 0, 1, -1)\n",
        "test_data['Strategy Return'] = test_data['Signal'] * test_data['% Change']\n",
        "\n",
        "# Calculate Sharpe Ratio\n",
        "risk_free_rate = 0.02  # Example risk-free rate\n",
        "strategy_return = test_data['Strategy Return']\n",
        "sharpe_ratio = (strategy_return.mean() - risk_free_rate) / strategy_return.std()\n",
        "\n",
        "# Output results\n",
        "print(f\"Sharpe Ratio: {sharpe_ratio}\")\n",
        "\n",
        "# Calculate cumulative returns and avoid overflow\n",
        "test_data['Cumulative Returns'] = (1 + test_data['Strategy Return']).cumprod()\n",
        "\n",
        "# Clip extreme values to avoid overflow in plotting\n",
        "test_data['Cumulative Returns'] = np.clip(test_data['Cumulative Returns'], 1e-6, 1e6)\n",
        "\n",
        "# Plot the results\n",
        "plt.figure(figsize=(12, 6))\n",
        "plt.plot(test_data['Date'], test_data['Cumulative Returns'], label='Strategy Equity Curve')\n",
        "plt.title('Strategy Performance')\n",
        "plt.xlabel('Date')\n",
        "plt.ylabel('Cumulative Returns')\n",
        "plt.legend()\n",
        "plt.grid(True)\n",
        "plt.show()\n",
        "\n"
      ],
      "metadata": {
        "colab": {
          "base_uri": "https://localhost:8080/",
          "height": 1000
        },
        "id": "R2iBrgw9kHnc",
        "outputId": "76ad00d7-ba2c-4d61-9176-f648f245e742"
      },
      "execution_count": 33,
      "outputs": [
        {
          "output_type": "stream",
          "name": "stdout",
          "text": [
            "Epoch 1/10\n"
          ]
        },
        {
          "output_type": "stream",
          "name": "stderr",
          "text": [
            "/usr/local/lib/python3.10/dist-packages/keras/src/layers/rnn/rnn.py:204: UserWarning: Do not pass an `input_shape`/`input_dim` argument to a layer. When using Sequential models, prefer using an `Input(shape)` object as the first layer in the model instead.\n",
            "  super().__init__(**kwargs)\n"
          ]
        },
        {
          "output_type": "stream",
          "name": "stdout",
          "text": [
            "\u001b[1m351/351\u001b[0m \u001b[32m━━━━━━━━━━━━━━━━━━━━\u001b[0m\u001b[37m\u001b[0m \u001b[1m26s\u001b[0m 64ms/step - loss: 0.0161 - val_loss: 0.0030\n",
            "Epoch 2/10\n",
            "\u001b[1m351/351\u001b[0m \u001b[32m━━━━━━━━━━━━━━━━━━━━\u001b[0m\u001b[37m\u001b[0m \u001b[1m27s\u001b[0m 78ms/step - loss: 0.0031 - val_loss: 0.0029\n",
            "Epoch 3/10\n",
            "\u001b[1m351/351\u001b[0m \u001b[32m━━━━━━━━━━━━━━━━━━━━\u001b[0m\u001b[37m\u001b[0m \u001b[1m21s\u001b[0m 59ms/step - loss: 0.0026 - val_loss: 0.0030\n",
            "Epoch 4/10\n",
            "\u001b[1m351/351\u001b[0m \u001b[32m━━━━━━━━━━━━━━━━━━━━\u001b[0m\u001b[37m\u001b[0m \u001b[1m43s\u001b[0m 65ms/step - loss: 0.0025 - val_loss: 0.0030\n",
            "Epoch 5/10\n",
            "\u001b[1m351/351\u001b[0m \u001b[32m━━━━━━━━━━━━━━━━━━━━\u001b[0m\u001b[37m\u001b[0m \u001b[1m42s\u001b[0m 67ms/step - loss: 0.0024 - val_loss: 0.0029\n",
            "Epoch 6/10\n",
            "\u001b[1m351/351\u001b[0m \u001b[32m━━━━━━━━━━━━━━━━━━━━\u001b[0m\u001b[37m\u001b[0m \u001b[1m42s\u001b[0m 71ms/step - loss: 0.0025 - val_loss: 0.0029\n",
            "Epoch 7/10\n",
            "\u001b[1m351/351\u001b[0m \u001b[32m━━━━━━━━━━━━━━━━━━━━\u001b[0m\u001b[37m\u001b[0m \u001b[1m38s\u001b[0m 62ms/step - loss: 0.0026 - val_loss: 0.0029\n",
            "Epoch 8/10\n",
            "\u001b[1m351/351\u001b[0m \u001b[32m━━━━━━━━━━━━━━━━━━━━\u001b[0m\u001b[37m\u001b[0m \u001b[1m42s\u001b[0m 65ms/step - loss: 0.0025 - val_loss: 0.0030\n",
            "Epoch 9/10\n",
            "\u001b[1m351/351\u001b[0m \u001b[32m━━━━━━━━━━━━━━━━━━━━\u001b[0m\u001b[37m\u001b[0m \u001b[1m41s\u001b[0m 64ms/step - loss: 0.0025 - val_loss: 0.0030\n",
            "Epoch 10/10\n",
            "\u001b[1m351/351\u001b[0m \u001b[32m━━━━━━━━━━━━━━━━━━━━\u001b[0m\u001b[37m\u001b[0m \u001b[1m22s\u001b[0m 63ms/step - loss: 0.0024 - val_loss: 0.0030\n",
            "\u001b[1m88/88\u001b[0m \u001b[32m━━━━━━━━━━━━━━━━━━━━\u001b[0m\u001b[37m\u001b[0m \u001b[1m2s\u001b[0m 19ms/step\n",
            "Sharpe Ratio: 11.215911027499978\n"
          ]
        },
        {
          "output_type": "stream",
          "name": "stderr",
          "text": [
            "/usr/local/lib/python3.10/dist-packages/numpy/core/fromnumeric.py:59: RuntimeWarning: overflow encountered in accumulate\n",
            "  return bound(*args, **kwds)\n"
          ]
        },
        {
          "output_type": "display_data",
          "data": {
            "text/plain": [
              "<Figure size 1200x600 with 1 Axes>"
            ],
            "image/png": "[encoded data removed]"
          },
          "metadata": {}
        }
      ]
    },
    {
      "cell_type": "markdown",
      "source": [
        "#Model Creation"
      ],
      "metadata": {
        "id": "96KEKjeWiV11"
      }
    },
    {
      "cell_type": "code",
      "source": [
        "import os\n",
        "import pandas as pd\n",
        "import numpy as np\n",
        "from sklearn.preprocessing import MinMaxScaler\n",
        "from tensorflow.keras.models import Sequential\n",
        "from tensorflow.keras.layers import LSTM, Dense, Dropout\n",
        "\n",
        "# Load and prepare data with additional preprocessing for Volume\n",
        "def load_and_prepare_data(folder_path):\n",
        "    dataframes = []\n",
        "    for file_name in os.listdir(folder_path):\n",
        "        if file_name.endswith('.csv'):\n",
        "            df = pd.read_csv(os.path.join(folder_path, file_name))\n",
        "            df['Instrument'] = file_name.split('.')[0]  # Add instrument name\n",
        "            df['Date'] = pd.to_datetime(df['Date'])\n",
        "\n",
        "            # Remove commas and convert Volume to numeric\n",
        "            df['Volume'] = df['Volume'].replace({',': ''}, regex=True).astype(float)\n",
        "\n",
        "            dataframes.append(df)\n",
        "    combined_data = pd.concat(dataframes, ignore_index=True)\n",
        "    return combined_data\n",
        "\n",
        "# Generate sequences for LSTM\n",
        "def create_sequences(data, instruments, sequence_length=60):\n",
        "    X, y = [], []\n",
        "    features = ['Open', 'High', 'Low', 'Close', '% Change', 'Volume']\n",
        "    for instrument in instruments:\n",
        "        instrument_data = data[data['Instrument'] == instrument]\n",
        "        values = instrument_data[features].values\n",
        "        for i in range(sequence_length, len(values)):\n",
        "            X.append(values[i-sequence_length:i, :-1])  # Features\n",
        "            y.append(values[i, -2])  # Target: '% Change'\n",
        "    return np.array(X), np.array(y)\n",
        "\n",
        "# Load and prepare the data\n",
        "folder_path = '/content/L2'  # Path to your folder\n",
        "data = load_and_prepare_data(folder_path)\n",
        "\n",
        "# Sort and preprocess\n",
        "data = data.sort_values(by=['Date', 'Instrument']).reset_index(drop=True)\n",
        "features = ['Open', 'High', 'Low', 'Close', '% Change', 'Volume']\n",
        "\n",
        "# Handle missing values\n",
        "data = data.dropna(subset=features)\n",
        "\n",
        "# Scale features\n",
        "scaler = MinMaxScaler()\n",
        "data[features] = scaler.fit_transform(data[features])\n",
        "\n",
        "# Generate sequences for LSTM\n",
        "sequence_length = 60\n",
        "instruments = data['Instrument'].unique()\n",
        "X, y = create_sequences(data, instruments)\n",
        "\n",
        "# Build the LSTM model\n",
        "model = Sequential([\n",
        "    LSTM(50, return_sequences=True, input_shape=(X.shape[1], X.shape[2])),\n",
        "    Dropout(0.2),\n",
        "    LSTM(50, return_sequences=False),\n",
        "    Dropout(0.2),\n",
        "    Dense(25),\n",
        "    Dense(1)  # Predict % Change\n",
        "])\n",
        "\n",
        "model.compile(optimizer='adam', loss='mean_squared_error')\n",
        "\n",
        "# Train the model on the entire dataset\n",
        "model.fit(X, y, batch_size=32, epochs=10)\n",
        "\n",
        "# Save the complete model for future use\n",
        "model.save('trained_model.h5')\n",
        "\n",
        "print(\"Model trained and saved successfully.\")\n"
      ],
      "metadata": {
        "colab": {
          "base_uri": "https://localhost:8080/"
        },
        "id": "7ktiExkjd7Ci",
        "outputId": "d09345c6-6269-44a0-e67f-e43ee3c9d11c"
      },
      "execution_count": 29,
      "outputs": [
        {
          "output_type": "stream",
          "name": "stdout",
          "text": [
            "Epoch 1/10\n"
          ]
        },
        {
          "output_type": "stream",
          "name": "stderr",
          "text": [
            "/usr/local/lib/python3.10/dist-packages/keras/src/layers/rnn/rnn.py:204: UserWarning: Do not pass an `input_shape`/`input_dim` argument to a layer. When using Sequential models, prefer using an `Input(shape)` object as the first layer in the model instead.\n",
            "  super().__init__(**kwargs)\n"
          ]
        },
        {
          "output_type": "stream",
          "name": "stdout",
          "text": [
            "\u001b[1m439/439\u001b[0m \u001b[32m━━━━━━━━━━━━━━━━━━━━\u001b[0m\u001b[37m\u001b[0m \u001b[1m34s\u001b[0m 70ms/step - loss: 0.0073\n",
            "Epoch 2/10\n",
            "\u001b[1m439/439\u001b[0m \u001b[32m━━━━━━━━━━━━━━━━━━━━\u001b[0m\u001b[37m\u001b[0m \u001b[1m45s\u001b[0m 78ms/step - loss: 0.0028\n",
            "Epoch 3/10\n",
            "\u001b[1m439/439\u001b[0m \u001b[32m━━━━━━━━━━━━━━━━━━━━\u001b[0m\u001b[37m\u001b[0m \u001b[1m36s\u001b[0m 67ms/step - loss: 0.0027\n",
            "Epoch 4/10\n",
            "\u001b[1m439/439\u001b[0m \u001b[32m━━━━━━━━━━━━━━━━━━━━\u001b[0m\u001b[37m\u001b[0m \u001b[1m41s\u001b[0m 66ms/step - loss: 0.0025\n",
            "Epoch 5/10\n",
            "\u001b[1m439/439\u001b[0m \u001b[32m━━━━━━━━━━━━━━━━━━━━\u001b[0m\u001b[37m\u001b[0m \u001b[1m27s\u001b[0m 61ms/step - loss: 0.0026\n",
            "Epoch 6/10\n",
            "\u001b[1m439/439\u001b[0m \u001b[32m━━━━━━━━━━━━━━━━━━━━\u001b[0m\u001b[37m\u001b[0m \u001b[1m50s\u001b[0m 81ms/step - loss: 0.0026\n",
            "Epoch 7/10\n",
            "\u001b[1m439/439\u001b[0m \u001b[32m━━━━━━━━━━━━━━━━━━━━\u001b[0m\u001b[37m\u001b[0m \u001b[1m36s\u001b[0m 82ms/step - loss: 0.0026\n",
            "Epoch 8/10\n",
            "\u001b[1m439/439\u001b[0m \u001b[32m━━━━━━━━━━━━━━━━━━━━\u001b[0m\u001b[37m\u001b[0m \u001b[1m42s\u001b[0m 84ms/step - loss: 0.0026\n",
            "Epoch 9/10\n",
            "\u001b[1m439/439\u001b[0m \u001b[32m━━━━━━━━━━━━━━━━━━━━\u001b[0m\u001b[37m\u001b[0m \u001b[1m39s\u001b[0m 81ms/step - loss: 0.0026\n",
            "Epoch 10/10\n",
            "\u001b[1m439/439\u001b[0m \u001b[32m━━━━━━━━━━━━━━━━━━━━\u001b[0m\u001b[37m\u001b[0m \u001b[1m33s\u001b[0m 62ms/step - loss: 0.0025\n"
          ]
        },
        {
          "output_type": "stream",
          "name": "stderr",
          "text": [
            "WARNING:absl:You are saving your model as an HDF5 file via `model.save()` or `keras.saving.save_model(model)`. This file format is considered legacy. We recommend using instead the native Keras format, e.g. `model.save('my_model.keras')` or `keras.saving.save_model(model, 'my_model.keras')`. \n"
          ]
        },
        {
          "output_type": "stream",
          "name": "stdout",
          "text": [
            "Model trained and saved successfully.\n"
          ]
        }
      ]
    },
    {
      "cell_type": "markdown",
      "source": [
        "#Testing"
      ],
      "metadata": {
        "id": "8Of6JUkPiIho"
      }
    },
    {
      "cell_type": "markdown",
      "source": [
        "##Repalce with the testing data folder below for testing the output on specific dataset"
      ],
      "metadata": {
        "id": "24jVvP7Bh_Y7"
      }
    },
    {
      "cell_type": "code",
      "source": [
        "import os\n",
        "import pandas as pd\n",
        "import numpy as np\n",
        "from tensorflow.keras.models import load_model\n",
        "from sklearn.preprocessing import MinMaxScaler\n",
        "import matplotlib.pyplot as plt\n",
        "\n",
        "# Load and prepare data with additional preprocessing for Volume\n",
        "def load_and_prepare_data(folder_path):\n",
        "    dataframes = []\n",
        "    for file_name in os.listdir(folder_path):\n",
        "        if file_name.endswith('.csv'):\n",
        "            df = pd.read_csv(os.path.join(folder_path, file_name))\n",
        "            df['Instrument'] = file_name.split('.')[0]  # Add instrument name\n",
        "            df['Date'] = pd.to_datetime(df['Date'])\n",
        "\n",
        "            # Remove commas and convert Volume to numeric\n",
        "            df['Volume'] = df['Volume'].replace({',': ''}, regex=True).astype(float)\n",
        "\n",
        "            dataframes.append(df)\n",
        "    combined_data = pd.concat(dataframes, ignore_index=True)\n",
        "    return combined_data\n",
        "\n",
        "# Generate sequences for LSTM\n",
        "def create_sequences(data, instruments, sequence_length=60):\n",
        "    X, y = [], []\n",
        "    features = ['Open', 'High', 'Low', 'Close', '% Change', 'Volume']\n",
        "    for instrument in instruments:\n",
        "        instrument_data = data[data['Instrument'] == instrument]\n",
        "        values = instrument_data[features].values\n",
        "        for i in range(sequence_length, len(values)):\n",
        "            X.append(values[i-sequence_length:i, :-1])  # Features\n",
        "            y.append(values[i, -2])  # Target: '% Change'\n",
        "    return np.array(X), np.array(y)\n",
        "\n",
        "# Load the saved model\n",
        "model = load_model('trained_model.h5')\n",
        "\n",
        "# Load and prepare the test data (from folder L3)\n",
        "folder_path = '/content/L3'  # Path to your new folder with test data\n",
        "data = load_and_prepare_data(folder_path)\n",
        "\n",
        "# Sort and preprocess\n",
        "data = data.sort_values(by=['Date', 'Instrument']).reset_index(drop=True)\n",
        "features = ['Open', 'High', 'Low', 'Close', '% Change', 'Volume']\n",
        "\n",
        "# Handle missing values\n",
        "data = data.dropna(subset=features)\n",
        "\n",
        "# Scale features (use the same scaler fitted on training data)\n",
        "scaler = MinMaxScaler()\n",
        "data[features] = scaler.fit_transform(data[features])\n",
        "\n",
        "# Generate sequences for LSTM\n",
        "sequence_length = 60\n",
        "instruments = data['Instrument'].unique()\n",
        "X, y = create_sequences(data, instruments)\n",
        "\n",
        "# Make predictions on the test data\n",
        "predicted_changes = model.predict(X)\n",
        "\n",
        "# Backtest the strategy\n",
        "test_data = data.iloc[-len(y):].copy()\n",
        "test_data['Predicted % Change'] = scaler.inverse_transform(\n",
        "    np.hstack((np.zeros((len(predicted_changes), len(features) - 1)), predicted_changes))\n",
        ")[:, -1]\n",
        "\n",
        "# Define buy/sell signals based on predictions\n",
        "test_data['Signal'] = np.where(test_data['Predicted % Change'] > 0, 1, -1)\n",
        "test_data['Strategy Return'] = test_data['Signal'] * test_data['% Change']\n",
        "\n",
        "# Calculate Sharpe Ratio\n",
        "risk_free_rate = 0.02  # Example risk-free rate\n",
        "strategy_return = test_data['Strategy Return']\n",
        "sharpe_ratio = (strategy_return.mean() - risk_free_rate) / strategy_return.std()\n",
        "\n",
        "# Output results\n",
        "print(f\"Sharpe Ratio: {sharpe_ratio}\")\n",
        "\n",
        "# Calculate cumulative returns and avoid overflow\n",
        "test_data['Cumulative Returns'] = (1 + test_data['Strategy Return']).cumprod()\n",
        "\n",
        "# Clip extreme values to avoid overflow in plotting\n",
        "test_data['Cumulative Returns'] = np.clip(test_data['Cumulative Returns'], 1e-6, 1e6)\n",
        "\n",
        "# Plot the results\n",
        "plt.figure(figsize=(12, 6))\n",
        "plt.plot(test_data['Date'], test_data['Cumulative Returns'], label='Strategy Equity Curve')\n",
        "plt.title('Strategy Performance on Test Data')\n",
        "plt.xlabel('Date')\n",
        "plt.ylabel('Cumulative Returns')\n",
        "plt.legend()\n",
        "plt.grid(True)\n",
        "plt.show()\n"
      ],
      "metadata": {
        "id": "GhmEkgbmh79L"
      },
      "execution_count": null,
      "outputs": []
    }
  ]
}